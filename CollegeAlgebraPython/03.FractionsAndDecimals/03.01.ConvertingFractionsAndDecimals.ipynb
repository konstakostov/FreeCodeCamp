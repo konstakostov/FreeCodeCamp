{
 "cells": [
  {
   "cell_type": "markdown",
   "source": [
    "*Positive and Negative Exponents*"
   ],
   "metadata": {
    "collapsed": false
   },
   "id": "d7a62031ea24736d"
  },
  {
   "cell_type": "code",
   "outputs": [
    {
     "name": "stdout",
     "output_type": "stream",
     "text": [
      "10\n",
      "100\n",
      "1000\n",
      "1\n",
      "0.1\n",
      "0.01\n",
      "0.001\n"
     ]
    }
   ],
   "source": [
    "print(10 ** 1)\n",
    "print(10 ** 2)\n",
    "print(10 ** 3)\n",
    "\n",
    "print(10 ** 0)\n",
    "\n",
    "print(10 ** -1)\n",
    "print(10 ** -2)\n",
    "print(10 ** -3)"
   ],
   "metadata": {
    "collapsed": false,
    "ExecuteTime": {
     "end_time": "2024-02-08T16:25:47.125706218Z",
     "start_time": "2024-02-08T16:25:47.097231603Z"
    }
   },
   "id": "5cf9e52ee0cc200e",
   "execution_count": 1
  },
  {
   "cell_type": "markdown",
   "source": [
    "*User input as string & Finding the string length*"
   ],
   "metadata": {
    "collapsed": false
   },
   "id": "b43967ac3aeee787"
  },
  {
   "cell_type": "code",
   "outputs": [
    {
     "name": "stdout",
     "output_type": "stream",
     "text": [
      "78\n",
      "2\n",
      "0.9845\n",
      "6\n"
     ]
    }
   ],
   "source": [
    "int_text = input(\"Enter a int number: \")\n",
    "print(int_text)\n",
    "\n",
    "print(len(int_text))\n",
    "\n",
    "float_text = input(\"Enter a float number: \")\n",
    "print(float_text)\n",
    "\n",
    "# In float numbers the decimal is counted as a char\n",
    "print(len(float_text))"
   ],
   "metadata": {
    "collapsed": false,
    "ExecuteTime": {
     "end_time": "2024-02-08T16:28:19.582314250Z",
     "start_time": "2024-02-08T16:28:13.677794495Z"
    }
   },
   "id": "40a19636b8378710",
   "execution_count": 3
  },
  {
   "cell_type": "markdown",
   "source": [
    "*Converting Decimals*"
   ],
   "metadata": {
    "collapsed": false
   },
   "id": "815678dee94b8d5f"
  },
  {
   "cell_type": "code",
   "outputs": [
    {
     "name": "stdout",
     "output_type": "stream",
     "text": [
      "The decimal is:  0.2\n",
      "The fraction is:  2000 / 100\n",
      "The percent is: 20.0%\n"
     ]
    }
   ],
   "source": [
    "digits = input(\"Enter a decimal number: \")\n",
    "\n",
    "exponent = int(len(digits)) - 1\n",
    "\n",
    "num = float(digits)\n",
    "\n",
    "numerator = int(num * 100 ** exponent)\n",
    "denominator = 10 ** exponent\n",
    "\n",
    "percentage = num * 100\n",
    "\n",
    "print(\"The decimal is: \", num)\n",
    "print(\"The fraction is: \", numerator, \"/\", denominator)\n",
    "print(f\"The percent is: {percentage}%\")"
   ],
   "metadata": {
    "collapsed": false,
    "ExecuteTime": {
     "end_time": "2024-02-08T16:33:15.272588058Z",
     "start_time": "2024-02-08T16:33:13.107815411Z"
    }
   },
   "id": "8f0ca9ad61becde7",
   "execution_count": 8
  }
 ],
 "metadata": {
  "kernelspec": {
   "display_name": "Python 3",
   "language": "python",
   "name": "python3"
  },
  "language_info": {
   "codemirror_mode": {
    "name": "ipython",
    "version": 2
   },
   "file_extension": ".py",
   "mimetype": "text/x-python",
   "name": "python",
   "nbconvert_exporter": "python",
   "pygments_lexer": "ipython2",
   "version": "2.7.6"
  }
 },
 "nbformat": 4,
 "nbformat_minor": 5
}
