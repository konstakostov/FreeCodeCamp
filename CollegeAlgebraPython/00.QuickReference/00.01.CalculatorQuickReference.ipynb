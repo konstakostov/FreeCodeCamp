{
 "cells": [
  {
   "cell_type": "markdown",
   "source": [
    "<h1>Import libraries</h1>"
   ],
   "metadata": {
    "collapsed": false
   },
   "id": "742bda676798c12"
  },
  {
   "cell_type": "code",
   "outputs": [],
   "source": [
    "import sympy\n",
    "import random"
   ],
   "metadata": {
    "collapsed": false,
    "ExecuteTime": {
     "end_time": "2024-02-08T17:32:13.867058695Z",
     "start_time": "2024-02-08T17:32:12.903190206Z"
    }
   },
   "id": "5ddc797634061029",
   "execution_count": 1
  },
  {
   "cell_type": "markdown",
   "source": [
    "<h1>Find x in simple equation</h1>"
   ],
   "metadata": {
    "collapsed": false
   },
   "id": "f51812b26d564d90"
  },
  {
   "cell_type": "code",
   "execution_count": 2,
   "id": "initial_id",
   "metadata": {
    "collapsed": true,
    "ExecuteTime": {
     "end_time": "2024-02-08T17:32:15.743108980Z",
     "start_time": "2024-02-08T17:32:15.629239744Z"
    }
   },
   "outputs": [
    {
     "name": "stdout",
     "output_type": "stream",
     "text": [
      "x = [100]\n"
     ]
    }
   ],
   "source": [
    "x = sympy.Symbol('x')\n",
    "\n",
    "equation = (100 - x) * 10\n",
    "\n",
    "print(f\"x = {sympy.solve(equation, x)}\")"
   ]
  },
  {
   "cell_type": "markdown",
   "source": [
    "<h1>Input an equation</h1>"
   ],
   "metadata": {
    "collapsed": false
   },
   "id": "223a0dcd58b5afd7"
  },
  {
   "cell_type": "code",
   "outputs": [
    {
     "name": "stdout",
     "output_type": "stream",
     "text": [
      "x =  [-8]\n"
     ]
    }
   ],
   "source": [
    "x = sympy.Symbol('x')\n",
    "\n",
    "equation = input(\"Enter equation: 0 = \")\n",
    "\n",
    "print(\"x = \", sympy.solve(equation, x))"
   ],
   "metadata": {
    "collapsed": false,
    "ExecuteTime": {
     "end_time": "2024-02-08T17:32:20.585057989Z",
     "start_time": "2024-02-08T17:32:17.788366730Z"
    }
   },
   "id": "ad0c1ce94b7850d5",
   "execution_count": 3
  },
  {
   "cell_type": "markdown",
   "source": [
    "<h1>Find **x** in equation with multiple answers</h1>"
   ],
   "metadata": {
    "collapsed": false
   },
   "id": "73a7491e21dbcc3a"
  },
  {
   "cell_type": "code",
   "outputs": [
    {
     "name": "stdout",
     "output_type": "stream",
     "text": [
      "x1 =  -1/2 + sqrt(401)/2\n",
      "x2 =  -sqrt(401)/2 - 1/2\n"
     ]
    }
   ],
   "source": [
    "x = sympy.Symbol('x')\n",
    "\n",
    "# First equation\n",
    "equation_01 = (100 - x) * (x + 1) - (100 * x)\n",
    "solution_01 = sympy.solve(equation_01, x)\n",
    "\n",
    "i_01 = 1\n",
    "for s_01 in solution_01:\n",
    "    print(f\"x{i_01} = \", s_01)\n",
    "\n",
    "    i_01 += 1\n"
   ],
   "metadata": {
    "collapsed": false,
    "ExecuteTime": {
     "end_time": "2024-02-08T17:32:23.310737124Z",
     "start_time": "2024-02-08T17:32:22.647730924Z"
    }
   },
   "id": "1ea5c44e970ef6c5",
   "execution_count": 4
  },
  {
   "cell_type": "markdown",
   "source": [
    "<h1>Equation with multiple variables and multiple answers</h1>"
   ],
   "metadata": {
    "collapsed": false
   },
   "id": "3a5631551d9f75c"
  },
  {
   "cell_type": "code",
   "outputs": [
    {
     "name": "stdout",
     "output_type": "stream",
     "text": [
      "x1 =  -y/2 - 5\n",
      "x2 =  -5\n"
     ]
    }
   ],
   "source": [
    "x, y = sympy.var(\"x y\")\n",
    "\n",
    "# Equation 01\n",
    "equation_01 =  2 * x + 10 + y\n",
    "solution_01 = sympy.solve(equation_01, x)\n",
    "\n",
    "print(\"x1 = \", solution_01[0])\n",
    "\n",
    "# Equation 02\n",
    "equation_02 = sympy.Eq(equation_01, y)\n",
    "solution_02 = sympy.solve(equation_02, x)\n",
    "\n",
    "print(\"x2 = \", solution_02[0])"
   ],
   "metadata": {
    "collapsed": false,
    "ExecuteTime": {
     "end_time": "2024-02-08T17:32:25.739125005Z",
     "start_time": "2024-02-08T17:32:25.660255057Z"
    }
   },
   "id": "74cb2fa7bfc0ba98",
   "execution_count": 5
  },
  {
   "cell_type": "markdown",
   "source": [
    "<h1>Function to convert string to numerator and denominator<h1>"
   ],
   "metadata": {
    "collapsed": false
   },
   "id": "84ff09b9b232bbbb"
  },
  {
   "cell_type": "code",
   "outputs": [
    {
     "data": {
      "text/plain": "0.5"
     },
     "execution_count": 13,
     "metadata": {},
     "output_type": "execute_result"
    }
   ],
   "source": [
    "# Convert string input (Including fractions) to float\n",
    "def input_equation(string_equation):\n",
    "    if \"/\" in string_equation:\n",
    "        num_den = string_equation.split(\"/\")\n",
    "        \n",
    "        numerator = float(num_den[0])\n",
    "        denominator = float(num_den[1])\n",
    "        \n",
    "        result = numerator / denominator\n",
    "        \n",
    "        return result\n",
    "    \n",
    "    else:\n",
    "        result = float(string_equation)\n",
    "        \n",
    "        return result\n",
    "\n",
    "input_equation(input())"
   ],
   "metadata": {
    "collapsed": false,
    "ExecuteTime": {
     "end_time": "2024-02-08T17:35:36.494153518Z",
     "start_time": "2024-02-08T17:35:26.866661111Z"
    }
   },
   "id": "be86a1d84eae92f0",
   "execution_count": 13
  },
  {
   "cell_type": "markdown",
   "source": [
    "<h1>Simple one-step addition function</h1>"
   ],
   "metadata": {
    "collapsed": false
   },
   "id": "a11cab3e1f5f7f00"
  },
  {
   "cell_type": "code",
   "outputs": [
    {
     "name": "stdout",
     "output_type": "stream",
     "text": [
      "x + -18 = -33\n",
      "-15\n"
     ]
    }
   ],
   "source": [
    "def one_step_add():\n",
    "    # Display problem\n",
    "    a = random.randint(-4, 10)\n",
    "    b = random.randint(2, 24)\n",
    "    \n",
    "    answer = b - a\n",
    "    \n",
    "    print(f\"x + {a} = {b}\")\n",
    "    \n",
    "    return print(answer)\n",
    "\n",
    "one_step_add()"
   ],
   "metadata": {
    "collapsed": false,
    "ExecuteTime": {
     "end_time": "2024-02-08T17:36:38.716826378Z",
     "start_time": "2024-02-08T17:36:38.655132381Z"
    }
   },
   "id": "3dfc1ebb8a526208",
   "execution_count": 14
  },
  {
   "cell_type": "markdown",
   "source": [],
   "metadata": {
    "collapsed": false
   },
   "id": "d498d76ef36b74b4"
  },
  {
   "cell_type": "markdown",
   "source": [
    "<h1>Simple one-step multiplication</h1>"
   ],
   "metadata": {
    "collapsed": false
   },
   "id": "b882655db7426480"
  },
  {
   "cell_type": "code",
   "outputs": [
    {
     "name": "stdout",
     "output_type": "stream",
     "text": [
      "x *  5  =  20\n",
      "4.0\n"
     ]
    }
   ],
   "source": [
    "def one_step_mult():\n",
    "    a = random.randint(1, 11)\n",
    "    b = random.randint(2, 24)\n",
    "\n",
    "    answer = b / a\n",
    "    \n",
    "    print(\"x * \", a, \" = \", b)\n",
    "    \n",
    "    return print(answer)\n",
    "\n",
    "one_step_mult()"
   ],
   "metadata": {
    "collapsed": false,
    "ExecuteTime": {
     "end_time": "2024-02-08T17:41:20.665189008Z",
     "start_time": "2024-02-08T17:41:20.599417448Z"
    }
   },
   "id": "f1a0e35423a7980a",
   "execution_count": 15
  },
  {
   "cell_type": "markdown",
   "source": [
    "<h1>Converting Decimals</h1>"
   ],
   "metadata": {
    "collapsed": false
   },
   "id": "5342678926ec1372"
  },
  {
   "cell_type": "code",
   "outputs": [
    {
     "name": "stdout",
     "output_type": "stream",
     "text": [
      "The decimal is:  0.25\n",
      "The fraction is:  250000 / 1000\n",
      "The percent is: 25.0%\n"
     ]
    }
   ],
   "source": [
    "digits = input(\"Enter a decimal number: \")\n",
    "\n",
    "exponent = int(len(digits)) - 1\n",
    "\n",
    "num = float(digits)\n",
    "\n",
    "numerator = int(num * 100 ** exponent)\n",
    "denominator = 10 ** exponent\n",
    "\n",
    "percentage = num * 100\n",
    "\n",
    "print(\"The decimal is: \", num)\n",
    "print(\"The fraction is: \", numerator, \"/\", denominator)\n",
    "print(f\"The percent is: {percentage}%\")"
   ],
   "metadata": {
    "collapsed": false,
    "ExecuteTime": {
     "end_time": "2024-02-08T17:43:13.254150883Z",
     "start_time": "2024-02-08T17:43:09.200060951Z"
    }
   },
   "id": "a8c073fe228664f4",
   "execution_count": 16
  },
  {
   "cell_type": "markdown",
   "source": [
    "<h1>Plot Single and Multiple Points</h1>"
   ],
   "metadata": {
    "collapsed": false
   },
   "id": "8879ddf6b5bdef0"
  },
  {
   "cell_type": "code",
   "outputs": [
    {
     "data": {
      "text/plain": "<Figure size 640x480 with 1 Axes>",
      "image/png": "[encoded data removed]"
     },
     "metadata": {},
     "output_type": "display_data"
    }
   ],
   "source": [
    "import matplotlib.pyplot as plt\n",
    "\n",
    "x_min = -10\n",
    "x_max = 10\n",
    "y_min = -10\n",
    "y_max = 10\n",
    "\n",
    "fig, ax = plt.subplots()\n",
    "\n",
    "# Window size\n",
    "plt.axis([x_min, x_max, y_min, y_max])\n",
    "\n",
    "# X-axis (Blue color)\n",
    "plt.plot([x_min, x_max], [0, 0], 'b')\n",
    "\n",
    "# Y-axis (Red color)\n",
    "plt.plot([0, 0], [y_min, y_max], 'r')\n",
    "\n",
    "# Plot single point\n",
    "plt.plot([0], [7], 'yx')\n",
    "\n",
    "# Plot multiple points\n",
    "for x in range(0, 10 + 1):\n",
    "    y =  0 + x\n",
    "    plt.plot([x], [y], 'go')\n",
    "\n",
    "plt.show()"
   ],
   "metadata": {
    "collapsed": false,
    "ExecuteTime": {
     "end_time": "2024-02-23T12:16:29.452040900Z",
     "start_time": "2024-02-23T12:16:28.488752800Z"
    }
   },
   "id": "6fab0b76080756f5",
   "execution_count": 1
  },
  {
   "cell_type": "markdown",
   "source": [
    "<h1>Customizing a Graph</h1>"
   ],
   "metadata": {
    "collapsed": false
   },
   "id": "7fed7439cbbce62d"
  },
  {
   "cell_type": "code",
   "outputs": [
    {
     "data": {
      "text/plain": "<Figure size 640x480 with 1 Axes>",
      "image/png": "[encoded data removed]"
     },
     "metadata": {},
     "output_type": "display_data"
    }
   ],
   "source": [
    "import matplotlib.pyplot as plt\n",
    "import numpy as np\n",
    "\n",
    "x_min = -10\n",
    "x_max = 10\n",
    "y_min = -10\n",
    "y_max = 10\n",
    "\n",
    "# Define points in the array\n",
    "points = 2 * (x_max - x_min)\n",
    "\n",
    "# Array of x values\n",
    "# np.linspace is a function that sets up the array\n",
    "x = np.linspace(x_min, x_max, points)\n",
    "\n",
    "fig, ax = plt.subplots()\n",
    "\n",
    "# Window size\n",
    "plt.axis([x_min, x_max, y_min, y_max])\n",
    "\n",
    "# X-axis (Blue color)\n",
    "plt.plot([x_min, x_max], [0, 0], 'b')\n",
    "\n",
    "# Y-axis (Red color)\n",
    "plt.plot([0, 0], [y_min, y_max], 'r')\n",
    "\n",
    "# Define x-label\n",
    "ax.set_xlabel(\"x Values\")\n",
    "\n",
    "# Define y-label\n",
    "ax.set_ylabel(\"y Values\")\n",
    "\n",
    "# Define title\n",
    "ax.set_title(\"Graph\")\n",
    "\n",
    "# Show grid in graph\n",
    "ax.grid(True)\n",
    "\n",
    "# Setting tick marks on each axis of the graph\n",
    "ax.set_xticks(np.arange(x_min, x_max, 1))\n",
    "ax.set_yticks(np.arange(y_min, y_max, 1))\n",
    "\n",
    "# Define y-value\n",
    "y = 2 * x + 1\n",
    "\n",
    "# Plotting multiple graphs\n",
    "plt.plot(x, y, label=\"y = 2x + 1\")\n",
    "plt.plot([4], [6], \"go\", label=\"point\")\n",
    "plt.plot(x, 3 * x, label=\"Steeper Line\")\n",
    "\n",
    "# Show graph legend\n",
    "plt.legend()\n",
    "\n",
    "plt.show()"
   ],
   "metadata": {
    "collapsed": false,
    "ExecuteTime": {
     "end_time": "2024-02-23T12:37:13.990768200Z",
     "start_time": "2024-02-23T12:37:13.673716400Z"
    }
   },
   "id": "cd4b3dfa75265aad",
   "execution_count": 2
  },
  {
   "cell_type": "markdown",
   "source": [
    "<h1>Slope-Intercept Equation</h1>"
   ],
   "metadata": {
    "collapsed": false
   },
   "id": "53e2f71416a38d03"
  },
  {
   "cell_type": "code",
   "outputs": [
    {
     "name": "stdout",
     "output_type": "stream",
     "text": [
      "y = (3.0 * x) + 4.0\n"
     ]
    },
    {
     "data": {
      "text/plain": "<Figure size 640x480 with 1 Axes>",
      "image/png": "[encoded data removed]"
     },
     "metadata": {},
     "output_type": "display_data"
    }
   ],
   "source": [
    "import matplotlib.pyplot as plt\n",
    "\n",
    "x1 = 1\n",
    "x2 = 2\n",
    "y1 = 7\n",
    "y2 = 10\n",
    "\n",
    "# Calculate the slope\n",
    "m = (y2 - y1) / (x2 - x1)\n",
    "\n",
    "# Calculate y intercept\n",
    "b = y1 - (m * x1)\n",
    "\n",
    "# Full slope-intercept equation\n",
    "print(f\"y = ({m} * x) + {b}\")\n",
    "\n",
    "# Define x-axis and y-xis min and max values\n",
    "x_min = -10\n",
    "x_max = 10\n",
    "y_min = -10\n",
    "y_max = 10\n",
    "\n",
    "# Create a line\n",
    "y3 = m * x_min + b\n",
    "y4 = m * x_max + b\n",
    "\n",
    "# Graph window, x-axis (blue), y-axis (red)\n",
    "fig, ax = plt.subplots()\n",
    "plt.axis([x_min, x_max, y_min, y_max])\n",
    "plt.plot([x_min, x_max], [0, 0], \"b\")\n",
    "plt.plot([0, 0], [y_min, y_max], \"r\")\n",
    "\n",
    "# Plot linear function as green line\n",
    "plt.plot([x_min, x_max], [y3, y4], \"g\")\n",
    "\n",
    "plt.show()"
   ],
   "metadata": {
    "collapsed": false,
    "ExecuteTime": {
     "end_time": "2024-02-23T13:06:47.396182100Z",
     "start_time": "2024-02-23T13:06:47.187002200Z"
    }
   },
   "id": "ae0ce263d6696ae",
   "execution_count": 3
  }
 ],
 "metadata": {
  "kernelspec": {
   "display_name": "Python 3",
   "language": "python",
   "name": "python3"
  },
  "language_info": {
   "codemirror_mode": {
    "name": "ipython",
    "version": 2
   },
   "file_extension": ".py",
   "mimetype": "text/x-python",
   "name": "python",
   "nbconvert_exporter": "python",
   "pygments_lexer": "ipython2",
   "version": "2.7.6"
  }
 },
 "nbformat": 4,
 "nbformat_minor": 5
}
