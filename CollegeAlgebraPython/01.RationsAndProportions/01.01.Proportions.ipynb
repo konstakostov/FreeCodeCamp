{
 "cells": [
  {
   "cell_type": "markdown",
   "source": [
    "*Solving Proportions*"
   ],
   "metadata": {
    "collapsed": false
   },
   "id": "ad3b9b411ce4f54c"
  },
  {
   "cell_type": "markdown",
   "source": [
    "Set up the proportion: \n",
    "\n",
    "$\\frac{n1}{d1} = \\frac{n2}{d2}$"
   ],
   "metadata": {
    "collapsed": false
   },
   "id": "ba628b666ac6dd5b"
  },
  {
   "cell_type": "code",
   "outputs": [
    {
     "name": "stdout",
     "output_type": "stream",
     "text": [
      "n2 =  8.0\n"
     ]
    }
   ],
   "source": [
    "# The unknown value is set as 0 (n2 in this example)\n",
    "n1 = 1\n",
    "d1 = 2\n",
    "n2 = 0\n",
    "d2 = 16\n",
    "\n",
    "if n2 == 0:\n",
    "    answer = d2 * n1 / d1\n",
    "    \n",
    "    print(\"n2 = \", answer)\n",
    "\n",
    "if d2 == 0:\n",
    "    answer = n2 * d1 / n1\n",
    "    \n",
    "    print(\"d2 = \", answer)"
   ],
   "metadata": {
    "collapsed": false,
    "ExecuteTime": {
     "end_time": "2024-02-04T14:24:16.591149400Z",
     "start_time": "2024-02-04T14:24:16.577112600Z"
    }
   },
   "id": "b3f7cf2a3cde691a",
   "execution_count": 2
  }
 ],
 "metadata": {
  "kernelspec": {
   "display_name": "Python 3",
   "language": "python",
   "name": "python3"
  },
  "language_info": {
   "codemirror_mode": {
    "name": "ipython",
    "version": 2
   },
   "file_extension": ".py",
   "mimetype": "text/x-python",
   "name": "python",
   "nbconvert_exporter": "python",
   "pygments_lexer": "ipython2",
   "version": "2.7.6"
  }
 },
 "nbformat": 4,
 "nbformat_minor": 5
}
