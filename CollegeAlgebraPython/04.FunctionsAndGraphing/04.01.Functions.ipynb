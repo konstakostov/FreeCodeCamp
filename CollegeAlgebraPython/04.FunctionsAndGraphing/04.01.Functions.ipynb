{
 "cells": [
  {
   "cell_type": "markdown",
   "source": [
    "<h1>Function and table of (x, y) values</h1>"
   ],
   "metadata": {
    "collapsed": false
   },
   "id": "82b4c1011f4aa68d"
  },
  {
   "cell_type": "code",
   "execution_count": 4,
   "id": "initial_id",
   "metadata": {
    "collapsed": true,
    "ExecuteTime": {
     "end_time": "2024-02-08T17:57:14.603856952Z",
     "start_time": "2024-02-08T17:57:14.533880154Z"
    }
   },
   "outputs": [
    {
     "name": "stdout",
     "output_type": "stream",
     "text": [
      "5, 23\n",
      "\n",
      "x \t y\n",
      "0 \t 3\n",
      "1 \t 7\n",
      "2 \t 11\n",
      "3 \t 15\n",
      "4 \t 19\n",
      "5 \t 23\n",
      "6 \t 27\n",
      "7 \t 31\n",
      "8 \t 35\n",
      "9 \t 39\n",
      "10 \t 43\n"
     ]
    }
   ],
   "source": [
    "x = 5\n",
    "\n",
    "# The function\n",
    "y = 4 * x + 3\n",
    "\n",
    "print(f\"{x}, {y}\")\n",
    "print()\n",
    "\n",
    "print(\"x \\t y\")\n",
    "\n",
    "for x_01 in range(11):\n",
    "    y = 4 * x_01 + 3\n",
    "    \n",
    "    print(f\"{x_01} \\t {y}\")"
   ]
  },
  {
   "cell_type": "markdown",
   "source": [
    "<h1>Defining function</h1>"
   ],
   "metadata": {
    "collapsed": false
   },
   "id": "f9a2bf3d0b8ec3da"
  },
  {
   "cell_type": "code",
   "outputs": [
    {
     "name": "stdout",
     "output_type": "stream",
     "text": [
      "5 , 23\n",
      "\n",
      "0 \t 3\n",
      "1 \t 7\n",
      "2 \t 11\n",
      "3 \t 15\n",
      "4 \t 19\n",
      "5 \t 23\n",
      "6 \t 27\n",
      "7 \t 31\n",
      "8 \t 35\n",
      "9 \t 39\n",
      "10 \t 43\n"
     ]
    }
   ],
   "source": [
    "def f(x):\n",
    "    y = 4 * x + 3\n",
    "    \n",
    "    return y\n",
    "\n",
    "z = 5\n",
    "\n",
    "print(z, ',', f(z))\n",
    "print()\n",
    "\n",
    "for x_01 in range(11):\n",
    "    print(x_01, \"\\t\", f(x_01))"
   ],
   "metadata": {
    "collapsed": false,
    "ExecuteTime": {
     "end_time": "2024-02-08T18:00:16.720046931Z",
     "start_time": "2024-02-08T18:00:16.672297578Z"
    }
   },
   "id": "622faf41b09f7e30",
   "execution_count": 6
  }
 ],
 "metadata": {
  "kernelspec": {
   "display_name": "Python 3",
   "language": "python",
   "name": "python3"
  },
  "language_info": {
   "codemirror_mode": {
    "name": "ipython",
    "version": 2
   },
   "file_extension": ".py",
   "mimetype": "text/x-python",
   "name": "python",
   "nbconvert_exporter": "python",
   "pygments_lexer": "ipython2",
   "version": "2.7.6"
  }
 },
 "nbformat": 4,
 "nbformat_minor": 5
}
