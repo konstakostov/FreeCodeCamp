{
 "cells": [
  {
   "cell_type": "markdown",
   "source": [
    "<h1>Calculte a Slope</h1>"
   ],
   "metadata": {
    "collapsed": false
   },
   "id": "b885c1eaf7535993"
  },
  {
   "cell_type": "code",
   "execution_count": 2,
   "id": "initial_id",
   "metadata": {
    "collapsed": true,
    "ExecuteTime": {
     "end_time": "2024-02-23T12:51:10.835760700Z",
     "start_time": "2024-02-23T12:51:10.826131800Z"
    }
   },
   "outputs": [
    {
     "name": "stdout",
     "output_type": "stream",
     "text": [
      "slope = 3.0\n"
     ]
    }
   ],
   "source": [
    "x1 = 1\n",
    "x2 = 2\n",
    "y1 = 7\n",
    "y2 = 10\n",
    "\n",
    "slope = (y2 - y1) / (x2 - x1)\n",
    "\n",
    "print(f\"slope = {slope}\")"
   ]
  }
 ],
 "metadata": {
  "kernelspec": {
   "display_name": "Python 3",
   "language": "python",
   "name": "python3"
  },
  "language_info": {
   "codemirror_mode": {
    "name": "ipython",
    "version": 2
   },
   "file_extension": ".py",
   "mimetype": "text/x-python",
   "name": "python",
   "nbconvert_exporter": "python",
   "pygments_lexer": "ipython2",
   "version": "2.7.6"
  }
 },
 "nbformat": 4,
 "nbformat_minor": 5
}
