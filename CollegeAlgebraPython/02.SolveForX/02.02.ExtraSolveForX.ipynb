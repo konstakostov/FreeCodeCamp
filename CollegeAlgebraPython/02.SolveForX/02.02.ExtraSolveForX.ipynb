{
 "cells": [
  {
   "cell_type": "markdown",
   "source": [
    "*Extra Problems for Solve for X*"
   ],
   "metadata": {
    "collapsed": false
   },
   "id": "6636931f582a7d4b"
  },
  {
   "cell_type": "code",
   "outputs": [],
   "source": [
    "import sympy as sp\n",
    "import random"
   ],
   "metadata": {
    "collapsed": false
   },
   "id": "b444de719d9947f5",
   "execution_count": null
  },
  {
   "cell_type": "code",
   "outputs": [],
   "source": [
    "x = sp.symbols(\"x\")\n",
    "\n",
    "# Equation 01\n",
    "eq = 2 * x + 1\n",
    "print(\"x = \", sp.solve(eq, x))\n",
    "\n",
    "# Equation 2\n",
    "eq = 2 * x ** 2 + 1\n",
    "print(\"x = \", sp.solve(eq, x))\n",
    "\n",
    "# Equation 03\n",
    "eq = 2 * x ** 2 - 2\n",
    "print(\"x = \", sp.solve(eq, x))\n"
   ],
   "metadata": {
    "collapsed": false
   },
   "id": "643a055fce630729",
   "execution_count": null
  },
  {
   "cell_type": "code",
   "outputs": [],
   "source": [
    "x = sp.symbols(\"x\")\n",
    "\n",
    "# Equation 01\n",
    "eq = input(\"Enter Equation: 0 = \")\n",
    "print(\"x = \", sp.solve(eq, x))"
   ],
   "metadata": {
    "collapsed": false
   },
   "id": "66c0edaab43d34d",
   "execution_count": null
  },
  {
   "cell_type": "code",
   "outputs": [],
   "source": [
    "x = sp.symbols(\"x\")\n",
    "\n",
    "# Equation 01\n",
    "eq = 2 * x - 4\n",
    "solution = sp.solve(eq, x)\n",
    "\n",
    "print(\"x = \", solution[0])"
   ],
   "metadata": {
    "collapsed": false
   },
   "id": "4977383e7ae8a522",
   "execution_count": null
  },
  {
   "cell_type": "markdown",
   "source": [
    "*Multiple Answers*"
   ],
   "metadata": {
    "collapsed": false
   },
   "id": "15043ab0e4fc3395"
  },
  {
   "cell_type": "code",
   "outputs": [],
   "source": [
    "import sympy as sp\n",
    "x = sp.symbols(\"x\")\n",
    "\n",
    "# Equation 01\n",
    "eq = 2 * x - 4\n",
    "solution = sp.solve(eq, x)\n",
    "\n",
    "for s in solution:\n",
    "    print(\"x = \", s)\n",
    "\n",
    "# Equation 02\n",
    "eq = input(\"Enter equation: 0 = \")\n",
    "solution = sp.solve(eq, x)\n",
    "\n",
    "i = 1\n",
    "for s in solution:\n",
    "    print(f\"x{i} = \", s)\n",
    "    \n",
    "    i += 1\n"
   ],
   "metadata": {
    "collapsed": false
   },
   "id": "f1e00d81735c5a5e",
   "execution_count": null
  },
  {
   "cell_type": "markdown",
   "source": [
    "*Multiple Answers, Other Solution*"
   ],
   "metadata": {
    "collapsed": false
   },
   "id": "f8da341abe8c096a"
  },
  {
   "cell_type": "code",
   "outputs": [],
   "source": [
    "sp.var(\"x y\")\n",
    "\n",
    "# Equation 01\n",
    "eq1 =  2 * x + 10 + y\n",
    "sol1 = sp.solve(eq, x)\n",
    "\n",
    "print(\"x = \", sol1[0])\n",
    "\n",
    "# Equation 02\n",
    "eq2 = sp.Eq(eq1, y)\n",
    "sol2 = sp.solve(eq1, x)\n",
    "\n",
    "print(\"x = \", sol2[0])"
   ],
   "metadata": {
    "collapsed": false
   },
   "id": "2650c05e9dcc6f4",
   "execution_count": null
  },
  {
   "cell_type": "markdown",
   "source": [
    "*Factoring*"
   ],
   "metadata": {
    "collapsed": false
   },
   "id": "cda8246cac2ecd2d"
  },
  {
   "cell_type": "code",
   "outputs": [],
   "source": [
    "sp.var(\"x y\")\n",
    "\n",
    "# Equation 01\n",
    "eq1 = x ** 2 - 4\n",
    "\n",
    "print(sp.factor(eq1))\n",
    "\n",
    "# Equation 02\n",
    "eq2 = x ** 3 - 2 * x ** 2 - 5 * x + 6\n",
    "print(sp.factor(eq2))"
   ],
   "metadata": {
    "collapsed": false
   },
   "id": "3f9fc72b203fe57a",
   "execution_count": null
  },
  {
   "cell_type": "markdown",
   "source": [
    "*How Functions Work*"
   ],
   "metadata": {
    "collapsed": false
   },
   "id": "4b07c4b06fe7c34b"
  },
  {
   "cell_type": "code",
   "outputs": [
    {
     "name": "stdout",
     "output_type": "stream",
     "text": [
      "x +  9  =  11\n",
      "Incorrect!\n",
      "\n",
      "The correct answer is:  2 \n",
      "\n",
      "x +  -15  =  21\n",
      "Incorrect!\n",
      "\n",
      "The correct answer is:  36 \n",
      "\n",
      "x *  10  =  6\n",
      "Incorrect!\n",
      "\n",
      "The correct answer is:  0.6 \n"
     ]
    }
   ],
   "source": [
    "# Convert string input (Including fractions) to float\n",
    "def string_frac(in_string):\n",
    "    if \"/\" in in_string:\n",
    "        nd = in_string.split(\"/\")\n",
    "        \n",
    "        n = float(nd[0])\n",
    "        d = float(nd[1])\n",
    "        \n",
    "        ans = n / d\n",
    "        \n",
    "        return ans\n",
    "    \n",
    "    else:\n",
    "        ans = float(in_string)\n",
    "        \n",
    "        return ans\n",
    "\n",
    "# Simplest one-step addition\n",
    "def one_step_add():\n",
    "    # Display problem\n",
    "    a = random.randint(-4, 10)\n",
    "    b = random.randint(2, 24)\n",
    "    \n",
    "    answer = b - a\n",
    "\n",
    "    print(\"x + \", a, \" = \", b)\n",
    "\n",
    "    ans = float(input(\"x = \"))\n",
    "    \n",
    "    # Test input\n",
    "    if ans == answer:\n",
    "        print(\"Correct!\\n\")\n",
    "    else:\n",
    "        print(\"Incorrect!\\n\")\n",
    "        print(\"The correct answer is: \", answer, \"\\n\")\n",
    "\n",
    "\n",
    "# One-step addition with negative numbers\n",
    "def one_step_subtract():\n",
    "    a = random.randint(-19, -1)\n",
    "    b = random.randint(2, 24)\n",
    "\n",
    "    answer = b - a\n",
    "    \n",
    "    print(\"x + \", a, \" = \", b)\n",
    "    \n",
    "    ans = float(input(\"x = \"))\n",
    "    \n",
    "    # Test input\n",
    "    if ans == answer:\n",
    "        print(\"Correct!\\n\")\n",
    "    else:\n",
    "        print(\"Incorrect!\\n\")\n",
    "        print(\"The correct answer is: \", answer, \"\\n\")\n",
    "\n",
    "\n",
    "# One-step multiply\n",
    "def one_step_mult():\n",
    "    # Using string_frac(<input string>)\n",
    "\n",
    "    a = random.randint(1, 11)\n",
    "    b = random.randint(2, 24)\n",
    "\n",
    "    answer = b / a\n",
    "    \n",
    "    print(\"x * \", a, \" = \", b)\n",
    "    \n",
    "    ans = input(\"x = \")\n",
    "    \n",
    "    # Test input\n",
    "    if string_frac(ans) == answer:\n",
    "        print(\"Correct!\\n\")\n",
    "    else:\n",
    "        print(\"Incorrect!\\n\")\n",
    "        print(\"The correct answer is: \", answer, \"\\n\")\n",
    "\n",
    "\n",
    "# Example usage\n",
    "one_step_add()\n",
    "one_step_subtract()\n",
    "one_step_mult()"
   ],
   "metadata": {
    "collapsed": false,
    "ExecuteTime": {
     "end_time": "2024-02-04T15:42:43.347747200Z",
     "start_time": "2024-02-04T15:42:32.251419300Z"
    }
   },
   "id": "828af12ec78cdc00",
   "execution_count": 21
  },
  {
   "cell_type": "markdown",
   "source": [
    "*NB! Fractions and strings*"
   ],
   "metadata": {
    "collapsed": false
   },
   "id": "efd0411aaa1fb12e"
  },
  {
   "cell_type": "code",
   "outputs": [],
   "source": [
    "# Possible\n",
    "print((float(3 / 4)))\n",
    "\n",
    "# Not possible, it returns ValueError\n",
    "frac = float(input(\"fraction = \"))\n",
    "print(frac)"
   ],
   "metadata": {
    "collapsed": false
   },
   "id": "c2acd2767b1477f0",
   "execution_count": null
  }
 ],
 "metadata": {
  "kernelspec": {
   "display_name": "Python 3",
   "language": "python",
   "name": "python3"
  },
  "language_info": {
   "codemirror_mode": {
    "name": "ipython",
    "version": 2
   },
   "file_extension": ".py",
   "mimetype": "text/x-python",
   "name": "python",
   "nbconvert_exporter": "python",
   "pygments_lexer": "ipython2",
   "version": "2.7.6"
  }
 },
 "nbformat": 4,
 "nbformat_minor": 5
}
