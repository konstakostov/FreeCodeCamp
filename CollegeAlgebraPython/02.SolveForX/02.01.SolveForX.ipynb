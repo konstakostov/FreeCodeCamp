{
 "cells": [
  {
   "cell_type": "markdown",
   "source": [
    "<h1>Solving for X</h1>"
   ],
   "metadata": {
    "collapsed": false
   },
   "id": "6dafd4c20add7a8f"
  },
  {
   "cell_type": "code",
   "outputs": [
    {
     "name": "stdout",
     "output_type": "stream",
     "text": [
      "x =  [2]\n",
      "x =  [-8]\n",
      "x =  [-4]\n",
      "x =  [125]\n"
     ]
    }
   ],
   "source": [
    "import sympy as sp\n",
    "\n",
    "x = sp.symbols(\"x\")\n",
    "\n",
    "# Equation 01\n",
    "eq = x - 2\n",
    "print(\"x = \", sp.solve(eq, x))\n",
    "\n",
    "# Equation 02\n",
    "eq = x + 8\n",
    "print(\"x = \", sp.solve(eq, x))\n",
    "\n",
    "# Equation 03\n",
    "eq = x * 2 + 8\n",
    "print(\"x = \", sp.solve(eq, x))\n",
    "\n",
    "# Equation 04\n",
    "eq = x / 5 - 5 ** 2\n",
    "print(\"x = \", sp.solve(eq, x))"
   ],
   "metadata": {
    "collapsed": false,
    "ExecuteTime": {
     "end_time": "2024-02-08T11:02:08.632705132Z",
     "start_time": "2024-02-08T11:02:08.128011343Z"
    }
   },
   "id": "a4777f5f92a47249",
   "execution_count": 1
  },
  {
   "cell_type": "code",
   "outputs": [],
   "source": [],
   "metadata": {
    "collapsed": false
   },
   "id": "17e796b59d7d13e4"
  }
 ],
 "metadata": {
  "kernelspec": {
   "display_name": "Python 3",
   "language": "python",
   "name": "python3"
  },
  "language_info": {
   "codemirror_mode": {
    "name": "ipython",
    "version": 2
   },
   "file_extension": ".py",
   "mimetype": "text/x-python",
   "name": "python",
   "nbconvert_exporter": "python",
   "pygments_lexer": "ipython2",
   "version": "2.7.6"
  }
 },
 "nbformat": 4,
 "nbformat_minor": 5
}
